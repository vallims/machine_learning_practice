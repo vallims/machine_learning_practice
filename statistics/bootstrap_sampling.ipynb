{
 "cells": [
  {
   "cell_type": "markdown",
   "id": "b6078815",
   "metadata": {},
   "source": [
    "## Bootstraping is resampling techinque used to estimate the parameter of a population by sampling the dataset with replacement."
   ]
  },
  {
   "cell_type": "code",
   "execution_count": null,
   "id": "2d2a29d4",
   "metadata": {},
   "outputs": [],
   "source": [
    "import random \n",
    "import numpy as np"
   ]
  },
  {
   "cell_type": "markdown",
   "id": "3b18973f",
   "metadata": {},
   "source": [
    "## create a Gaussian distribution (population) of 10,000 elements with the population mean be 100:"
   ]
  },
  {
   "cell_type": "code",
   "execution_count": 28,
   "id": "1c6826a5",
   "metadata": {},
   "outputs": [],
   "source": [
    "x = np.random.normal(loc = 100, scale = 1.0, size = 10000)"
   ]
  },
  {
   "cell_type": "code",
   "execution_count": 29,
   "id": "5cbf5712",
   "metadata": {},
   "outputs": [
    {
     "data": {
      "text/plain": [
       "100.00077935341291"
      ]
     },
     "execution_count": 29,
     "metadata": {},
     "output_type": "execute_result"
    }
   ],
   "source": [
    "x.mean()"
   ]
  },
  {
   "cell_type": "markdown",
   "id": "bc551ca6",
   "metadata": {},
   "source": [
    "## Draw 50 samples of size 10 from the distribution (population) and compute the mean for every sample:"
   ]
  },
  {
   "cell_type": "code",
   "execution_count": 30,
   "id": "6fb58351",
   "metadata": {},
   "outputs": [],
   "source": [
    "sample_mean = []"
   ]
  },
  {
   "cell_type": "code",
   "execution_count": 31,
   "id": "a822f6f6",
   "metadata": {},
   "outputs": [],
   "source": [
    "for i in range(50):\n",
    "  y = random.choices(x.tolist(), k=10)\n",
    "  avg = np.mean(y)\n",
    "\n",
    "  sample_mean.append(avg)"
   ]
  },
  {
   "cell_type": "code",
   "execution_count": 32,
   "id": "b1f6baa7",
   "metadata": {},
   "outputs": [
    {
     "data": {
      "text/plain": [
       "100.02368429466782"
      ]
     },
     "execution_count": 32,
     "metadata": {},
     "output_type": "execute_result"
    }
   ],
   "source": [
    "np.mean(sample_mean)"
   ]
  },
  {
   "cell_type": "markdown",
   "id": "9c325b40",
   "metadata": {},
   "source": [
    "The average of the mean values of all the 50 samples is pretty close to the population mean!!"
   ]
  },
  {
   "cell_type": "code",
   "execution_count": null,
   "id": "6832b866",
   "metadata": {},
   "outputs": [],
   "source": []
  }
 ],
 "metadata": {
  "kernelspec": {
   "display_name": "myenv",
   "language": "python",
   "name": "myenv"
  },
  "language_info": {
   "codemirror_mode": {
    "name": "ipython",
    "version": 3
   },
   "file_extension": ".py",
   "mimetype": "text/x-python",
   "name": "python",
   "nbconvert_exporter": "python",
   "pygments_lexer": "ipython3",
   "version": "3.9.17"
  }
 },
 "nbformat": 4,
 "nbformat_minor": 5
}
