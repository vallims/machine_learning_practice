{
 "cells": [
  {
   "cell_type": "markdown",
   "id": "3c2fdf0a",
   "metadata": {},
   "source": [
    "# Alice has to wait for her husband at the station and X denotes the times elapsed before he arrives. If given that X is exponentially distributed with lam = 0.01, what is the probability that Alice has to wait for more than N mins (P(X>N))"
   ]
  },
  {
   "cell_type": "code",
   "execution_count": 1,
   "id": "f808beac",
   "metadata": {},
   "outputs": [
    {
     "name": "stdout",
     "output_type": "stream",
     "text": [
      "5\n",
      "0.951229\n"
     ]
    }
   ],
   "source": [
    "import numpy as np\n",
    "N = float(input())\n",
    "lam = 0.01\n",
    "p = np.exp(-lam*N)                  # Reading input from STDIN\n",
    "print('%0.6f' % p)         # Writing output to STDOUT"
   ]
  },
  {
   "cell_type": "markdown",
   "id": "2f349e66",
   "metadata": {},
   "source": [
    "# Probability that Alice will accidentally drop her phone to ground is p. She will not be careful after any no.of unfortunate events. Let X be the random variable that equals to the no.of times Alice drops her phone. Write a program to calculate the expectation value, E(X).\n",
    "Solution:\n",
    "$E(X) = 1p(1)+2p(2)+3p(3)+...=p+2p^2+3p^3+...=p(1+2p+3p^2+...)$\n",
    "$=p[(1+p+p^2+p^3+...)+(p+p^2+p^3+...)+(p^2+p^3+...)]=p[(1+p+p^2+p^3+...)+p(1+p+p^2+p^3+...)+p^2(1+p+p^2+p^3+...)+...]$\n",
    "$ =p[(1+p+p^2+p^3+...)(1+p+p^2+p^3+...)]=p(1/(1-p)*1/(1-p))=p/(1-p)^2$"
   ]
  },
  {
   "cell_type": "code",
   "execution_count": 2,
   "id": "d689a225",
   "metadata": {},
   "outputs": [
    {
     "name": "stdout",
     "output_type": "stream",
     "text": [
      "0.3\n",
      "0.612245\n"
     ]
    }
   ],
   "source": [
    "p = float(input() ) \n",
    "assert p<1               # Reading input from STDIN\n",
    "expect = p/(1-p)**2\n",
    "print(\"%0.6f\" %expect) "
   ]
  },
  {
   "cell_type": "markdown",
   "id": "7056ea77",
   "metadata": {},
   "source": [
    "# Bob has an important meeting tomorrow and he has to reach office on time in morning. His general mode of transport is by car and on a regular day (no car trouble) the probability that he will reach on time is $p_{ot}$.The probability that he might have car trouble is $p_{ct}$. If the car runs into trouble he will have to take a train and only 2 trains out of the available N trains will get him to office on time. What are the chances that he will reach office on time tomorrow?\n"
   ]
  },
  {
   "cell_type": "markdown",
   "id": "9dd77a15",
   "metadata": {},
   "source": [
    "Solution: \n",
    "Let A be an event to reach office and B is the event that there no trouble in car. Then the probability of reaching office is\n",
    "$p(A) = p(A \\cup B)+P(A \\cup B^c)=P(A|B)P(B)+P(A|B^c)p(B^c)=p_{ot}*(1-p_{ct})+2/N*p_{ct}$"
   ]
  },
  {
   "cell_type": "code",
   "execution_count": 3,
   "id": "0a1bf83f",
   "metadata": {},
   "outputs": [
    {
     "name": "stdout",
     "output_type": "stream",
     "text": [
      "0.2\n",
      "0.3\n",
      "5\n",
      "0.320000\n"
     ]
    }
   ],
   "source": [
    "pct = float(input())                  # Reading input from STDIN\n",
    "pot = float(input())\n",
    "N = int(input())\n",
    "p = pot*(1-pct)+2/N*pct\n",
    "print('%.6f' % p)  "
   ]
  },
  {
   "cell_type": "markdown",
   "id": "c5918b51",
   "metadata": {},
   "source": [
    "# Mike wants to go fishing this weekend to nearby lake. His neighbour Alice (is the one Mike was hoping to ask out since long time) is also planing to go to the same spot for fishing this weekend. The probability that it will rain this weekend is p1. There are two possible ways to reach the fishing spot (bus or train). The probability that Mike will take the bus is p_mb and that Alice will take the bus is p_ab. Travel plans of both are independent of each other and rain. What is the probability that Mike and Alice meet each other only (should not meet in bus or train) in a romantic setup (on a lake in rain)?"
   ]
  },
  {
   "cell_type": "code",
   "execution_count": 5,
   "id": "022d4782",
   "metadata": {},
   "outputs": [
    {
     "name": "stdout",
     "output_type": "stream",
     "text": [
      "0.2\n",
      "0.2\n",
      "0.5\n",
      "0.160000\n"
     ]
    }
   ],
   "source": [
    "p_mb = float(input())\n",
    "p_ab = float(input())\n",
    "p_1 = float(input())                  \n",
    "p = p_1*(p_mb*(1-p_ab)+p_ab*(1-p_mb))\n",
    "print('%.6f' % p)  "
   ]
  }
 ],
 "metadata": {
  "kernelspec": {
   "display_name": "myenv",
   "language": "python",
   "name": "myenv"
  },
  "language_info": {
   "codemirror_mode": {
    "name": "ipython",
    "version": 3
   },
   "file_extension": ".py",
   "mimetype": "text/x-python",
   "name": "python",
   "nbconvert_exporter": "python",
   "pygments_lexer": "ipython3",
   "version": "3.9.17"
  }
 },
 "nbformat": 4,
 "nbformat_minor": 5
}
