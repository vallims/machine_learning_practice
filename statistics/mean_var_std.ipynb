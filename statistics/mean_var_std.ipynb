{
 "cells": [
  {
   "cell_type": "code",
   "execution_count": 2,
   "id": "4e138906",
   "metadata": {},
   "outputs": [],
   "source": [
    "import pandas as pd\n",
    "import numpy as np"
   ]
  },
  {
   "cell_type": "code",
   "execution_count": 3,
   "id": "01c00ebc",
   "metadata": {},
   "outputs": [],
   "source": [
    "from scipy import stats as st"
   ]
  },
  {
   "cell_type": "code",
   "execution_count": 4,
   "id": "2cf69945",
   "metadata": {},
   "outputs": [],
   "source": [
    "myarrusa = np.array([62000,64000,49000,324000,1264000,54330,64000,51000,55000,48000,53000])"
   ]
  },
  {
   "cell_type": "code",
   "execution_count": 5,
   "id": "a2f3cfc4",
   "metadata": {},
   "outputs": [],
   "source": [
    "denmark = np.array([462852.37,470317.73,567367.42,589763.50, 500179.17, 492713.81, 515109.89, 507644.53, 425525.56, 522575.25, 500179.17 ])"
   ]
  },
  {
   "cell_type": "code",
   "execution_count": 6,
   "id": "ad89e92a",
   "metadata": {},
   "outputs": [],
   "source": [
    "meanusa = np.mean(myarrusa)\n",
    "meandenmark = np.mean(denmark)"
   ]
  },
  {
   "cell_type": "code",
   "execution_count": 7,
   "id": "45451bd7",
   "metadata": {},
   "outputs": [],
   "source": [
    "#Compute sample variance\n",
    "def comvar(myarr):\n",
    "    avg = np.mean(myarr)\n",
    "    sum = 0\n",
    "    for i in myarr:\n",
    "        print(i)\n",
    "        sum = sum + (i-avg)**2\n",
    "    return sum/(len(myarr)-1)"
   ]
  },
  {
   "cell_type": "code",
   "execution_count": 8,
   "id": "66463b82",
   "metadata": {},
   "outputs": [
    {
     "name": "stdout",
     "output_type": "stream",
     "text": [
      "62000\n",
      "64000\n",
      "49000\n",
      "324000\n",
      "1264000\n",
      "54330\n",
      "64000\n",
      "51000\n",
      "55000\n",
      "48000\n",
      "53000\n"
     ]
    },
    {
     "data": {
      "text/plain": [
       "133433409536.36362"
      ]
     },
     "execution_count": 8,
     "metadata": {},
     "output_type": "execute_result"
    }
   ],
   "source": [
    "varusa = comvar(myarrusa)\n",
    "varusa"
   ]
  },
  {
   "cell_type": "code",
   "execution_count": 9,
   "id": "a3bc0c2f",
   "metadata": {},
   "outputs": [
    {
     "name": "stdout",
     "output_type": "stream",
     "text": [
      "462852.37\n",
      "470317.73\n",
      "567367.42\n",
      "589763.5\n",
      "500179.17\n",
      "492713.81\n",
      "515109.89\n",
      "507644.53\n",
      "425525.56\n",
      "522575.25\n",
      "500179.17\n"
     ]
    }
   ],
   "source": [
    "varden = comvar(denmark)"
   ]
  },
  {
   "cell_type": "code",
   "execution_count": 11,
   "id": "0ec20c0c",
   "metadata": {},
   "outputs": [
    {
     "data": {
      "text/plain": [
       "365285.3809507898"
      ]
     },
     "execution_count": 11,
     "metadata": {},
     "output_type": "execute_result"
    }
   ],
   "source": [
    "stdusa = np.sqrt(varusa)\n",
    "stdusa"
   ]
  },
  {
   "cell_type": "code",
   "execution_count": 12,
   "id": "f874921d",
   "metadata": {},
   "outputs": [
    {
     "data": {
      "text/plain": [
       "45809.91722492684"
      ]
     },
     "execution_count": 12,
     "metadata": {},
     "output_type": "execute_result"
    }
   ],
   "source": [
    "stdden = np.sqrt(varden)\n",
    "stdden"
   ]
  }
 ],
 "metadata": {
  "kernelspec": {
   "display_name": "myenv",
   "language": "python",
   "name": "myenv"
  },
  "language_info": {
   "codemirror_mode": {
    "name": "ipython",
    "version": 3
   },
   "file_extension": ".py",
   "mimetype": "text/x-python",
   "name": "python",
   "nbconvert_exporter": "python",
   "pygments_lexer": "ipython3",
   "version": "3.9.17"
  }
 },
 "nbformat": 4,
 "nbformat_minor": 5
}
